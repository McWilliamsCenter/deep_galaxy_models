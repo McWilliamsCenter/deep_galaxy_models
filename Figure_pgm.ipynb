{
 "cells": [
  {
   "cell_type": "code",
   "execution_count": null,
   "metadata": {},
   "outputs": [],
   "source": [
    "import daft \n",
    "from matplotlib import rc "
   ]
  },
  {
   "cell_type": "code",
   "execution_count": null,
   "metadata": {},
   "outputs": [],
   "source": [
    "rc(\"font\", family=\"serif\", size=12) \n",
    "rc(\"text\", usetex=True)"
   ]
  },
  {
   "cell_type": "code",
   "execution_count": null,
   "metadata": {},
   "outputs": [],
   "source": [
    "pgm = daft.PGM()"
   ]
  },
  {
   "cell_type": "code",
   "execution_count": null,
   "metadata": {},
   "outputs": [],
   "source": [
    "pgm.add_node(\"theta\", r\"$\\theta$\", 3, 1.5)\n",
    "\n",
    "pgm.add_node(\"z\", r\"$z_i$\", 2, 2)\n",
    "\n",
    "pgm.add_node(\"psf\", r\"$\\Pi_i$\",1,1, fixed=True)\n",
    "pgm.add_node(\"ps\", r\"$\\Sigma_i$\",1,1.75, fixed=True)\n",
    "\n",
    "pgm.add_node(\"x\", r\"$x_i$\", 2, 1, observed=True) "
   ]
  },
  {
   "cell_type": "code",
   "execution_count": null,
   "metadata": {},
   "outputs": [],
   "source": [
    "pgm.add_edge(\"z\", \"x\")\n",
    "pgm.add_edge(\"psf\", \"x\")\n",
    "pgm.add_edge(\"ps\", \"x\")\n",
    "pgm.add_edge(\"theta\", \"x\")"
   ]
  },
  {
   "cell_type": "code",
   "execution_count": null,
   "metadata": {},
   "outputs": [],
   "source": [
    "pgm.add_plate([0.5, 0.5, 2, 2], label=r\"$i = 1, \\cdots, N$\", shift=-0.1)"
   ]
  },
  {
   "cell_type": "code",
   "execution_count": null,
   "metadata": {},
   "outputs": [],
   "source": [
    "pgm.render()\n",
    "pgm.savefig(\"Figures/pgm.png\", dpi=300)"
   ]
  },
  {
   "cell_type": "code",
   "execution_count": null,
   "metadata": {},
   "outputs": [],
   "source": []
  }
 ],
 "metadata": {
  "kernelspec": {
   "display_name": "Python 3",
   "language": "python",
   "name": "python3"
  },
  "language_info": {
   "codemirror_mode": {
    "name": "ipython",
    "version": 3
   },
   "file_extension": ".py",
   "mimetype": "text/x-python",
   "name": "python",
   "nbconvert_exporter": "python",
   "pygments_lexer": "ipython3",
   "version": "3.7.3"
  }
 },
 "nbformat": 4,
 "nbformat_minor": 2
}
